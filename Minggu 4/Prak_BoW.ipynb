{
  "nbformat": 4,
  "nbformat_minor": 0,
  "metadata": {
    "colab": {
      "provenance": []
    },
    "kernelspec": {
      "name": "python3",
      "display_name": "Python 3"
    },
    "language_info": {
      "name": "python"
    }
  },
  "cells": [
    {
      "cell_type": "code",
      "execution_count": 4,
      "metadata": {
        "id": "YWgWDXsiUJHN"
      },
      "outputs": [],
      "source": [
        "import pandas as pd\n",
        "import numpy as np"
      ]
    },
    {
      "cell_type": "code",
      "source": [
        "dataset = pd.read_csv('/content/clean_dataset_stem.csv',sep=';')"
      ],
      "metadata": {
        "id": "hpzrWg16Vtvc"
      },
      "execution_count": 5,
      "outputs": []
    },
    {
      "cell_type": "code",
      "source": [
        "dataset.shape"
      ],
      "metadata": {
        "colab": {
          "base_uri": "https://localhost:8080/"
        },
        "id": "k39RxYRyVy84",
        "outputId": "03abd19b-d6fb-414c-90ec-3f901a378459"
      },
      "execution_count": 6,
      "outputs": [
        {
          "output_type": "execute_result",
          "data": {
            "text/plain": [
              "(902, 10)"
            ]
          },
          "metadata": {},
          "execution_count": 6
        }
      ]
    },
    {
      "cell_type": "code",
      "source": [
        "dataset.head(10)"
      ],
      "metadata": {
        "colab": {
          "base_uri": "https://localhost:8080/",
          "height": 710
        },
        "id": "YWrscAwtWD-F",
        "outputId": "a3e96625-d15f-4e44-d0ed-8755b094bfc3"
      },
      "execution_count": 7,
      "outputs": [
        {
          "output_type": "execute_result",
          "data": {
            "text/plain": [
              "   Unnamed: 0.1  Unnamed: 0  \\\n",
              "0             0           0   \n",
              "1             1           1   \n",
              "2             2           2   \n",
              "3             3           3   \n",
              "4             4           4   \n",
              "5             5           5   \n",
              "6             6           6   \n",
              "7             7           7   \n",
              "8             8           8   \n",
              "9             9           9   \n",
              "\n",
              "                                               Tweet  Sentimen  \\\n",
              "0  Cegah mata rantai Covid-19,mari kita dirumah s...       1.0   \n",
              "1  aku mohon yaAllah semoga wabah covid-19 menghi...       1.0   \n",
              "2  Pemprov Papua Naikkan Status Jadi Tanggap Daru...       1.0   \n",
              "3            Covid belum nyampe prigen mbak hmm hoax       0.0   \n",
              "4  Nyuruh orang pintar, lu aja Togog. Itu kerumun...      -1.0   \n",
              "5  Pikir2 balik byk mnde plk nk setelkn lepas covid.       0.0   \n",
              "6  Selamat pagi, hari jum'at. Jum'at keempat di k...       1.0   \n",
              "7  Hikmah di balik musibah covid-19, smg para pej...       1.0   \n",
              "8  Cegah covid-19 beserta jajaran Polsek Kuranji ...       1.0   \n",
              "9  Ya Allah kami memohon pada mu perkenankanlah d...       1.0   \n",
              "\n",
              "                                              step01  \\\n",
              "0  cegah mata rantai covid   mari kita dirumah sa...   \n",
              "1  aku mohon yaallah semoga wabah covid   menghil...   \n",
              "2  pemprov papua naikkan status jadi tanggap daru...   \n",
              "3            covid belum nyampe prigen mbak hmm hoax   \n",
              "4  nyuruh orang pintar lu aja togog itu kerumunan...   \n",
              "5    pikir balik byk mnde plk nk setelkn lepas covid   \n",
              "6  selamat pagi hari jumat jumat keempat di kala ...   \n",
              "7  hikmah di balik musibah covid   smg para pejab...   \n",
              "8  cegah covid   beserta jajaran polsek kuranji m...   \n",
              "9  ya allah kami memohon pada mu perkenankanlah d...   \n",
              "\n",
              "                                              tokens  \\\n",
              "0  ['cegah', 'mata', 'rantai', 'covid', 'mari', '...   \n",
              "1  ['aku', 'mohon', 'yaallah', 'semoga', 'wabah',...   \n",
              "2  ['pemprov', 'papua', 'naikkan', 'status', 'jad...   \n",
              "3  ['covid', 'belum', 'nyampe', 'prigen', 'mbak',...   \n",
              "4  ['nyuruh', 'orang', 'pintar', 'lu', 'aja', 'to...   \n",
              "5  ['pikir', 'balik', 'byk', 'mnde', 'plk', 'nk',...   \n",
              "6  ['selamat', 'pagi', 'hari', 'jumat', 'jumat', ...   \n",
              "7  ['hikmah', 'di', 'balik', 'musibah', 'covid', ...   \n",
              "8  ['cegah', 'covid', 'beserta', 'jajaran', 'pols...   \n",
              "9  ['ya', 'allah', 'kami', 'memohon', 'pada', 'mu...   \n",
              "\n",
              "                                        final_tokens  \\\n",
              "0  ['cegah', 'mata', 'rantai', 'covid', 'mari', '...   \n",
              "1  ['aku', 'mohon', 'yaallah', 'semoga', 'wabah',...   \n",
              "2  ['pemprov', 'papua', 'naikkan', 'status', 'jad...   \n",
              "3  ['covid', 'belum', 'nyampe', 'prigen', 'mbak',...   \n",
              "4  ['nyuruh', 'orang', 'pintar', 'lu', 'aja', 'to...   \n",
              "5  ['pikir', 'balik', 'byk', 'mnde', 'plk', 'nk',...   \n",
              "6  ['selamat', 'pagi', 'hari', 'jumat', 'jumat', ...   \n",
              "7  ['hikmah', 'di', 'balik', 'musibah', 'covid', ...   \n",
              "8  ['cegah', 'covid', 'beserta', 'jajaran', 'pols...   \n",
              "9  ['ya', 'allah', 'kami', 'memohon', 'pada', 'mu...   \n",
              "\n",
              "                                              step02  \\\n",
              "0  cegah mata rantai covid mari kita dirumah saja...   \n",
              "1  aku mohon yaallah semoga wabah covid menghilan...   \n",
              "2  pemprov papua naikkan status jadi tanggap daru...   \n",
              "3            covid belum nyampe prigen mbak hmm hoax   \n",
              "4  nyuruh orang pintar lu aja togog itu kerumunan...   \n",
              "5    pikir balik byk mnde plk nk setelkn lepas covid   \n",
              "6  selamat pagi hari jumat jumat keempat di kala ...   \n",
              "7  hikmah di balik musibah covid smg para pejabat...   \n",
              "8  cegah covid beserta jajaran polsek kuranji mel...   \n",
              "9  ya allah kami memohon pada mu perkenankanlah d...   \n",
              "\n",
              "                                       finalText_str  \\\n",
              "0  cegah mata rantai covid mari kita dirumah saja...   \n",
              "1  aku mohon yaallah semoga wabah covid menghilan...   \n",
              "2  pemprov papua naikkan status jadi tanggap daru...   \n",
              "3            covid belum nyampe prigen mbak hmm hoax   \n",
              "4  nyuruh orang pintar lu aja togog itu kerumunan...   \n",
              "5    pikir balik byk mnde plk nk setelkn lepas covid   \n",
              "6  selamat pagi hari jumat jumat keempat di kala ...   \n",
              "7  hikmah di balik musibah covid smg para pejabat...   \n",
              "8  cegah covid beserta jajaran polsek kuranji mel...   \n",
              "9  ya allah kami memohon pada mu perkenankanlah d...   \n",
              "\n",
              "                                       ProcessedText  \n",
              "0  cegah mata rantai covid kita rumah hingga hari...  \n",
              "1  aku mohon yaallah moga wabah covid hilang rama...  \n",
              "2  pemprov papua naik status jadi tanggap darurat...  \n",
              "3                  covid nyampe prigen mbak hmm hoax  \n",
              "4  nyuruh orang pintar lu aja togog kerumun orang...  \n",
              "5    pikir balik byk mnde plk nk setelkn lepas covid  \n",
              "6  selamat pagi hari jumat jumat empat kala pande...  \n",
              "7  hikmah balik musibah covid smg jabat perintah ...  \n",
              "8  cegah covid serta jajar polsek ranji laku aksi...  \n",
              "9  allah mohon mu kenan doa doa rana sungguh engk...  "
            ],
            "text/html": [
              "\n",
              "  <div id=\"df-4a707c65-5d4e-4992-a8c6-94692b5e8962\" class=\"colab-df-container\">\n",
              "    <div>\n",
              "<style scoped>\n",
              "    .dataframe tbody tr th:only-of-type {\n",
              "        vertical-align: middle;\n",
              "    }\n",
              "\n",
              "    .dataframe tbody tr th {\n",
              "        vertical-align: top;\n",
              "    }\n",
              "\n",
              "    .dataframe thead th {\n",
              "        text-align: right;\n",
              "    }\n",
              "</style>\n",
              "<table border=\"1\" class=\"dataframe\">\n",
              "  <thead>\n",
              "    <tr style=\"text-align: right;\">\n",
              "      <th></th>\n",
              "      <th>Unnamed: 0.1</th>\n",
              "      <th>Unnamed: 0</th>\n",
              "      <th>Tweet</th>\n",
              "      <th>Sentimen</th>\n",
              "      <th>step01</th>\n",
              "      <th>tokens</th>\n",
              "      <th>final_tokens</th>\n",
              "      <th>step02</th>\n",
              "      <th>finalText_str</th>\n",
              "      <th>ProcessedText</th>\n",
              "    </tr>\n",
              "  </thead>\n",
              "  <tbody>\n",
              "    <tr>\n",
              "      <th>0</th>\n",
              "      <td>0</td>\n",
              "      <td>0</td>\n",
              "      <td>Cegah mata rantai Covid-19,mari kita dirumah s...</td>\n",
              "      <td>1.0</td>\n",
              "      <td>cegah mata rantai covid   mari kita dirumah sa...</td>\n",
              "      <td>['cegah', 'mata', 'rantai', 'covid', 'mari', '...</td>\n",
              "      <td>['cegah', 'mata', 'rantai', 'covid', 'mari', '...</td>\n",
              "      <td>cegah mata rantai covid mari kita dirumah saja...</td>\n",
              "      <td>cegah mata rantai covid mari kita dirumah saja...</td>\n",
              "      <td>cegah mata rantai covid kita rumah hingga hari...</td>\n",
              "    </tr>\n",
              "    <tr>\n",
              "      <th>1</th>\n",
              "      <td>1</td>\n",
              "      <td>1</td>\n",
              "      <td>aku mohon yaAllah semoga wabah covid-19 menghi...</td>\n",
              "      <td>1.0</td>\n",
              "      <td>aku mohon yaallah semoga wabah covid   menghil...</td>\n",
              "      <td>['aku', 'mohon', 'yaallah', 'semoga', 'wabah',...</td>\n",
              "      <td>['aku', 'mohon', 'yaallah', 'semoga', 'wabah',...</td>\n",
              "      <td>aku mohon yaallah semoga wabah covid menghilan...</td>\n",
              "      <td>aku mohon yaallah semoga wabah covid menghilan...</td>\n",
              "      <td>aku mohon yaallah moga wabah covid hilang rama...</td>\n",
              "    </tr>\n",
              "    <tr>\n",
              "      <th>2</th>\n",
              "      <td>2</td>\n",
              "      <td>2</td>\n",
              "      <td>Pemprov Papua Naikkan Status Jadi Tanggap Daru...</td>\n",
              "      <td>1.0</td>\n",
              "      <td>pemprov papua naikkan status jadi tanggap daru...</td>\n",
              "      <td>['pemprov', 'papua', 'naikkan', 'status', 'jad...</td>\n",
              "      <td>['pemprov', 'papua', 'naikkan', 'status', 'jad...</td>\n",
              "      <td>pemprov papua naikkan status jadi tanggap daru...</td>\n",
              "      <td>pemprov papua naikkan status jadi tanggap daru...</td>\n",
              "      <td>pemprov papua naik status jadi tanggap darurat...</td>\n",
              "    </tr>\n",
              "    <tr>\n",
              "      <th>3</th>\n",
              "      <td>3</td>\n",
              "      <td>3</td>\n",
              "      <td>Covid belum nyampe prigen mbak hmm hoax</td>\n",
              "      <td>0.0</td>\n",
              "      <td>covid belum nyampe prigen mbak hmm hoax</td>\n",
              "      <td>['covid', 'belum', 'nyampe', 'prigen', 'mbak',...</td>\n",
              "      <td>['covid', 'belum', 'nyampe', 'prigen', 'mbak',...</td>\n",
              "      <td>covid belum nyampe prigen mbak hmm hoax</td>\n",
              "      <td>covid belum nyampe prigen mbak hmm hoax</td>\n",
              "      <td>covid nyampe prigen mbak hmm hoax</td>\n",
              "    </tr>\n",
              "    <tr>\n",
              "      <th>4</th>\n",
              "      <td>4</td>\n",
              "      <td>4</td>\n",
              "      <td>Nyuruh orang pintar, lu aja Togog. Itu kerumun...</td>\n",
              "      <td>-1.0</td>\n",
              "      <td>nyuruh orang pintar lu aja togog itu kerumunan...</td>\n",
              "      <td>['nyuruh', 'orang', 'pintar', 'lu', 'aja', 'to...</td>\n",
              "      <td>['nyuruh', 'orang', 'pintar', 'lu', 'aja', 'to...</td>\n",
              "      <td>nyuruh orang pintar lu aja togog itu kerumunan...</td>\n",
              "      <td>nyuruh orang pintar lu aja togog itu kerumunan...</td>\n",
              "      <td>nyuruh orang pintar lu aja togog kerumun orang...</td>\n",
              "    </tr>\n",
              "    <tr>\n",
              "      <th>5</th>\n",
              "      <td>5</td>\n",
              "      <td>5</td>\n",
              "      <td>Pikir2 balik byk mnde plk nk setelkn lepas covid.</td>\n",
              "      <td>0.0</td>\n",
              "      <td>pikir balik byk mnde plk nk setelkn lepas covid</td>\n",
              "      <td>['pikir', 'balik', 'byk', 'mnde', 'plk', 'nk',...</td>\n",
              "      <td>['pikir', 'balik', 'byk', 'mnde', 'plk', 'nk',...</td>\n",
              "      <td>pikir balik byk mnde plk nk setelkn lepas covid</td>\n",
              "      <td>pikir balik byk mnde plk nk setelkn lepas covid</td>\n",
              "      <td>pikir balik byk mnde plk nk setelkn lepas covid</td>\n",
              "    </tr>\n",
              "    <tr>\n",
              "      <th>6</th>\n",
              "      <td>6</td>\n",
              "      <td>6</td>\n",
              "      <td>Selamat pagi, hari jum'at. Jum'at keempat di k...</td>\n",
              "      <td>1.0</td>\n",
              "      <td>selamat pagi hari jumat jumat keempat di kala ...</td>\n",
              "      <td>['selamat', 'pagi', 'hari', 'jumat', 'jumat', ...</td>\n",
              "      <td>['selamat', 'pagi', 'hari', 'jumat', 'jumat', ...</td>\n",
              "      <td>selamat pagi hari jumat jumat keempat di kala ...</td>\n",
              "      <td>selamat pagi hari jumat jumat keempat di kala ...</td>\n",
              "      <td>selamat pagi hari jumat jumat empat kala pande...</td>\n",
              "    </tr>\n",
              "    <tr>\n",
              "      <th>7</th>\n",
              "      <td>7</td>\n",
              "      <td>7</td>\n",
              "      <td>Hikmah di balik musibah covid-19, smg para pej...</td>\n",
              "      <td>1.0</td>\n",
              "      <td>hikmah di balik musibah covid   smg para pejab...</td>\n",
              "      <td>['hikmah', 'di', 'balik', 'musibah', 'covid', ...</td>\n",
              "      <td>['hikmah', 'di', 'balik', 'musibah', 'covid', ...</td>\n",
              "      <td>hikmah di balik musibah covid smg para pejabat...</td>\n",
              "      <td>hikmah di balik musibah covid smg para pejabat...</td>\n",
              "      <td>hikmah balik musibah covid smg jabat perintah ...</td>\n",
              "    </tr>\n",
              "    <tr>\n",
              "      <th>8</th>\n",
              "      <td>8</td>\n",
              "      <td>8</td>\n",
              "      <td>Cegah covid-19 beserta jajaran Polsek Kuranji ...</td>\n",
              "      <td>1.0</td>\n",
              "      <td>cegah covid   beserta jajaran polsek kuranji m...</td>\n",
              "      <td>['cegah', 'covid', 'beserta', 'jajaran', 'pols...</td>\n",
              "      <td>['cegah', 'covid', 'beserta', 'jajaran', 'pols...</td>\n",
              "      <td>cegah covid beserta jajaran polsek kuranji mel...</td>\n",
              "      <td>cegah covid beserta jajaran polsek kuranji mel...</td>\n",
              "      <td>cegah covid serta jajar polsek ranji laku aksi...</td>\n",
              "    </tr>\n",
              "    <tr>\n",
              "      <th>9</th>\n",
              "      <td>9</td>\n",
              "      <td>9</td>\n",
              "      <td>Ya Allah kami memohon pada mu perkenankanlah d...</td>\n",
              "      <td>1.0</td>\n",
              "      <td>ya allah kami memohon pada mu perkenankanlah d...</td>\n",
              "      <td>['ya', 'allah', 'kami', 'memohon', 'pada', 'mu...</td>\n",
              "      <td>['ya', 'allah', 'kami', 'memohon', 'pada', 'mu...</td>\n",
              "      <td>ya allah kami memohon pada mu perkenankanlah d...</td>\n",
              "      <td>ya allah kami memohon pada mu perkenankanlah d...</td>\n",
              "      <td>allah mohon mu kenan doa doa rana sungguh engk...</td>\n",
              "    </tr>\n",
              "  </tbody>\n",
              "</table>\n",
              "</div>\n",
              "    <div class=\"colab-df-buttons\">\n",
              "\n",
              "  <div class=\"colab-df-container\">\n",
              "    <button class=\"colab-df-convert\" onclick=\"convertToInteractive('df-4a707c65-5d4e-4992-a8c6-94692b5e8962')\"\n",
              "            title=\"Convert this dataframe to an interactive table.\"\n",
              "            style=\"display:none;\">\n",
              "\n",
              "  <svg xmlns=\"http://www.w3.org/2000/svg\" height=\"24px\" viewBox=\"0 -960 960 960\">\n",
              "    <path d=\"M120-120v-720h720v720H120Zm60-500h600v-160H180v160Zm220 220h160v-160H400v160Zm0 220h160v-160H400v160ZM180-400h160v-160H180v160Zm440 0h160v-160H620v160ZM180-180h160v-160H180v160Zm440 0h160v-160H620v160Z\"/>\n",
              "  </svg>\n",
              "    </button>\n",
              "\n",
              "  <style>\n",
              "    .colab-df-container {\n",
              "      display:flex;\n",
              "      gap: 12px;\n",
              "    }\n",
              "\n",
              "    .colab-df-convert {\n",
              "      background-color: #E8F0FE;\n",
              "      border: none;\n",
              "      border-radius: 50%;\n",
              "      cursor: pointer;\n",
              "      display: none;\n",
              "      fill: #1967D2;\n",
              "      height: 32px;\n",
              "      padding: 0 0 0 0;\n",
              "      width: 32px;\n",
              "    }\n",
              "\n",
              "    .colab-df-convert:hover {\n",
              "      background-color: #E2EBFA;\n",
              "      box-shadow: 0px 1px 2px rgba(60, 64, 67, 0.3), 0px 1px 3px 1px rgba(60, 64, 67, 0.15);\n",
              "      fill: #174EA6;\n",
              "    }\n",
              "\n",
              "    .colab-df-buttons div {\n",
              "      margin-bottom: 4px;\n",
              "    }\n",
              "\n",
              "    [theme=dark] .colab-df-convert {\n",
              "      background-color: #3B4455;\n",
              "      fill: #D2E3FC;\n",
              "    }\n",
              "\n",
              "    [theme=dark] .colab-df-convert:hover {\n",
              "      background-color: #434B5C;\n",
              "      box-shadow: 0px 1px 3px 1px rgba(0, 0, 0, 0.15);\n",
              "      filter: drop-shadow(0px 1px 2px rgba(0, 0, 0, 0.3));\n",
              "      fill: #FFFFFF;\n",
              "    }\n",
              "  </style>\n",
              "\n",
              "    <script>\n",
              "      const buttonEl =\n",
              "        document.querySelector('#df-4a707c65-5d4e-4992-a8c6-94692b5e8962 button.colab-df-convert');\n",
              "      buttonEl.style.display =\n",
              "        google.colab.kernel.accessAllowed ? 'block' : 'none';\n",
              "\n",
              "      async function convertToInteractive(key) {\n",
              "        const element = document.querySelector('#df-4a707c65-5d4e-4992-a8c6-94692b5e8962');\n",
              "        const dataTable =\n",
              "          await google.colab.kernel.invokeFunction('convertToInteractive',\n",
              "                                                    [key], {});\n",
              "        if (!dataTable) return;\n",
              "\n",
              "        const docLinkHtml = 'Like what you see? Visit the ' +\n",
              "          '<a target=\"_blank\" href=https://colab.research.google.com/notebooks/data_table.ipynb>data table notebook</a>'\n",
              "          + ' to learn more about interactive tables.';\n",
              "        element.innerHTML = '';\n",
              "        dataTable['output_type'] = 'display_data';\n",
              "        await google.colab.output.renderOutput(dataTable, element);\n",
              "        const docLink = document.createElement('div');\n",
              "        docLink.innerHTML = docLinkHtml;\n",
              "        element.appendChild(docLink);\n",
              "      }\n",
              "    </script>\n",
              "  </div>\n",
              "\n",
              "\n",
              "<div id=\"df-09186b78-8070-4226-8da4-65712e85afed\">\n",
              "  <button class=\"colab-df-quickchart\" onclick=\"quickchart('df-09186b78-8070-4226-8da4-65712e85afed')\"\n",
              "            title=\"Suggest charts.\"\n",
              "            style=\"display:none;\">\n",
              "\n",
              "<svg xmlns=\"http://www.w3.org/2000/svg\" height=\"24px\"viewBox=\"0 0 24 24\"\n",
              "     width=\"24px\">\n",
              "    <g>\n",
              "        <path d=\"M19 3H5c-1.1 0-2 .9-2 2v14c0 1.1.9 2 2 2h14c1.1 0 2-.9 2-2V5c0-1.1-.9-2-2-2zM9 17H7v-7h2v7zm4 0h-2V7h2v10zm4 0h-2v-4h2v4z\"/>\n",
              "    </g>\n",
              "</svg>\n",
              "  </button>\n",
              "\n",
              "<style>\n",
              "  .colab-df-quickchart {\n",
              "      --bg-color: #E8F0FE;\n",
              "      --fill-color: #1967D2;\n",
              "      --hover-bg-color: #E2EBFA;\n",
              "      --hover-fill-color: #174EA6;\n",
              "      --disabled-fill-color: #AAA;\n",
              "      --disabled-bg-color: #DDD;\n",
              "  }\n",
              "\n",
              "  [theme=dark] .colab-df-quickchart {\n",
              "      --bg-color: #3B4455;\n",
              "      --fill-color: #D2E3FC;\n",
              "      --hover-bg-color: #434B5C;\n",
              "      --hover-fill-color: #FFFFFF;\n",
              "      --disabled-bg-color: #3B4455;\n",
              "      --disabled-fill-color: #666;\n",
              "  }\n",
              "\n",
              "  .colab-df-quickchart {\n",
              "    background-color: var(--bg-color);\n",
              "    border: none;\n",
              "    border-radius: 50%;\n",
              "    cursor: pointer;\n",
              "    display: none;\n",
              "    fill: var(--fill-color);\n",
              "    height: 32px;\n",
              "    padding: 0;\n",
              "    width: 32px;\n",
              "  }\n",
              "\n",
              "  .colab-df-quickchart:hover {\n",
              "    background-color: var(--hover-bg-color);\n",
              "    box-shadow: 0 1px 2px rgba(60, 64, 67, 0.3), 0 1px 3px 1px rgba(60, 64, 67, 0.15);\n",
              "    fill: var(--button-hover-fill-color);\n",
              "  }\n",
              "\n",
              "  .colab-df-quickchart-complete:disabled,\n",
              "  .colab-df-quickchart-complete:disabled:hover {\n",
              "    background-color: var(--disabled-bg-color);\n",
              "    fill: var(--disabled-fill-color);\n",
              "    box-shadow: none;\n",
              "  }\n",
              "\n",
              "  .colab-df-spinner {\n",
              "    border: 2px solid var(--fill-color);\n",
              "    border-color: transparent;\n",
              "    border-bottom-color: var(--fill-color);\n",
              "    animation:\n",
              "      spin 1s steps(1) infinite;\n",
              "  }\n",
              "\n",
              "  @keyframes spin {\n",
              "    0% {\n",
              "      border-color: transparent;\n",
              "      border-bottom-color: var(--fill-color);\n",
              "      border-left-color: var(--fill-color);\n",
              "    }\n",
              "    20% {\n",
              "      border-color: transparent;\n",
              "      border-left-color: var(--fill-color);\n",
              "      border-top-color: var(--fill-color);\n",
              "    }\n",
              "    30% {\n",
              "      border-color: transparent;\n",
              "      border-left-color: var(--fill-color);\n",
              "      border-top-color: var(--fill-color);\n",
              "      border-right-color: var(--fill-color);\n",
              "    }\n",
              "    40% {\n",
              "      border-color: transparent;\n",
              "      border-right-color: var(--fill-color);\n",
              "      border-top-color: var(--fill-color);\n",
              "    }\n",
              "    60% {\n",
              "      border-color: transparent;\n",
              "      border-right-color: var(--fill-color);\n",
              "    }\n",
              "    80% {\n",
              "      border-color: transparent;\n",
              "      border-right-color: var(--fill-color);\n",
              "      border-bottom-color: var(--fill-color);\n",
              "    }\n",
              "    90% {\n",
              "      border-color: transparent;\n",
              "      border-bottom-color: var(--fill-color);\n",
              "    }\n",
              "  }\n",
              "</style>\n",
              "\n",
              "  <script>\n",
              "    async function quickchart(key) {\n",
              "      const quickchartButtonEl =\n",
              "        document.querySelector('#' + key + ' button');\n",
              "      quickchartButtonEl.disabled = true;  // To prevent multiple clicks.\n",
              "      quickchartButtonEl.classList.add('colab-df-spinner');\n",
              "      try {\n",
              "        const charts = await google.colab.kernel.invokeFunction(\n",
              "            'suggestCharts', [key], {});\n",
              "      } catch (error) {\n",
              "        console.error('Error during call to suggestCharts:', error);\n",
              "      }\n",
              "      quickchartButtonEl.classList.remove('colab-df-spinner');\n",
              "      quickchartButtonEl.classList.add('colab-df-quickchart-complete');\n",
              "    }\n",
              "    (() => {\n",
              "      let quickchartButtonEl =\n",
              "        document.querySelector('#df-09186b78-8070-4226-8da4-65712e85afed button');\n",
              "      quickchartButtonEl.style.display =\n",
              "        google.colab.kernel.accessAllowed ? 'block' : 'none';\n",
              "    })();\n",
              "  </script>\n",
              "</div>\n",
              "    </div>\n",
              "  </div>\n"
            ]
          },
          "metadata": {},
          "execution_count": 7
        }
      ]
    },
    {
      "cell_type": "code",
      "source": [
        "dataset_feature = dataset['ProcessedText'].astype(str)"
      ],
      "metadata": {
        "id": "BGp65j-3WI7Q"
      },
      "execution_count": 8,
      "outputs": []
    },
    {
      "cell_type": "code",
      "source": [
        "dataset_label = dataset['Sentimen']"
      ],
      "metadata": {
        "id": "_VfgaefjWRJu"
      },
      "execution_count": 9,
      "outputs": []
    },
    {
      "cell_type": "code",
      "source": [
        "dataset_feature"
      ],
      "metadata": {
        "colab": {
          "base_uri": "https://localhost:8080/"
        },
        "id": "xDSlSFVfWlGB",
        "outputId": "d3d7ff3d-24c8-40c9-bb1d-7d450f243783"
      },
      "execution_count": 10,
      "outputs": [
        {
          "output_type": "execute_result",
          "data": {
            "text/plain": [
              "0      cegah mata rantai covid kita rumah hingga hari...\n",
              "1      aku mohon yaallah moga wabah covid hilang rama...\n",
              "2      pemprov papua naik status jadi tanggap darurat...\n",
              "3                      covid nyampe prigen mbak hmm hoax\n",
              "4      nyuruh orang pintar lu aja togog kerumun orang...\n",
              "                             ...                        \n",
              "897    seluruh negara dunia alami masa sulit covid ra...\n",
              "898    covid skripsi disaster selesai mau bgt bljr ma...\n",
              "899    malam projek benda bincang malam fb satu belia...\n",
              "900                          pontang panting koyak covid\n",
              "901    masalah sekarang isu jangkit covid alaaaa bosa...\n",
              "Name: ProcessedText, Length: 902, dtype: object"
            ]
          },
          "metadata": {},
          "execution_count": 10
        }
      ]
    },
    {
      "cell_type": "code",
      "source": [
        "dataset_label"
      ],
      "metadata": {
        "colab": {
          "base_uri": "https://localhost:8080/"
        },
        "id": "iXxmTXzhWpLi",
        "outputId": "1875c156-4ce5-4154-a495-3d8f25a7c42e"
      },
      "execution_count": 11,
      "outputs": [
        {
          "output_type": "execute_result",
          "data": {
            "text/plain": [
              "0      1.0\n",
              "1      1.0\n",
              "2      1.0\n",
              "3      0.0\n",
              "4     -1.0\n",
              "      ... \n",
              "897    1.0\n",
              "898    1.0\n",
              "899    0.0\n",
              "900   -1.0\n",
              "901   -1.0\n",
              "Name: Sentimen, Length: 902, dtype: float64"
            ]
          },
          "metadata": {},
          "execution_count": 11
        }
      ]
    },
    {
      "cell_type": "markdown",
      "source": [
        "## **Cek Distribusi Label**"
      ],
      "metadata": {
        "id": "R2n4ZewvbsQs"
      }
    },
    {
      "cell_type": "code",
      "source": [
        "import matplotlib.pyplot as plt\n",
        "import seaborn as sns\n",
        "%matplotlib inline"
      ],
      "metadata": {
        "id": "a-4QyTHlYnIN"
      },
      "execution_count": 13,
      "outputs": []
    },
    {
      "cell_type": "code",
      "source": [
        "plt.figure(figsize=(12,8))\n",
        "sns.distplot(dataset_label, label=f'target, skew: {dataset_label.skew():.2f}')\n",
        "plt.legend(loc='best')\n",
        "plt.show()"
      ],
      "metadata": {
        "colab": {
          "base_uri": "https://localhost:8080/",
          "height": 887
        },
        "id": "dq1s-uXXY4z6",
        "outputId": "3e5e6843-3879-446a-e493-13c548dcfe97"
      },
      "execution_count": 14,
      "outputs": [
        {
          "output_type": "stream",
          "name": "stderr",
          "text": [
            "<ipython-input-14-49fa269dbac5>:2: UserWarning: \n",
            "\n",
            "`distplot` is a deprecated function and will be removed in seaborn v0.14.0.\n",
            "\n",
            "Please adapt your code to use either `displot` (a figure-level function with\n",
            "similar flexibility) or `histplot` (an axes-level function for histograms).\n",
            "\n",
            "For a guide to updating your code to use the new functions, please see\n",
            "https://gist.github.com/mwaskom/de44147ed2974457ad6372750bbe5751\n",
            "\n",
            "  sns.distplot(dataset_label, label=f'target, skew: {dataset_label.skew():.2f}')\n"
          ]
        },
        {
          "output_type": "display_data",
          "data": {
            "text/plain": [
              "<Figure size 1200x800 with 1 Axes>"
            ],
            "image/png": "[encoded data removed]"
          },
          "metadata": {}
        }
      ]
    },
    {
      "cell_type": "code",
      "source": [
        "dataset_label.value_counts()"
      ],
      "metadata": {
        "colab": {
          "base_uri": "https://localhost:8080/"
        },
        "id": "oBU0eCj8ZBlV",
        "outputId": "f58761c4-8cfb-47c6-bf8e-8c17b8118703"
      },
      "execution_count": 15,
      "outputs": [
        {
          "output_type": "execute_result",
          "data": {
            "text/plain": [
              " 1.0    441\n",
              " 0.0    266\n",
              "-1.0    195\n",
              "Name: Sentimen, dtype: int64"
            ]
          },
          "metadata": {},
          "execution_count": 15
        }
      ]
    },
    {
      "cell_type": "markdown",
      "source": [
        "# **BOW**"
      ],
      "metadata": {
        "id": "3VdbEbO5biKx"
      }
    },
    {
      "cell_type": "code",
      "source": [
        "from sklearn.feature_extraction.text import CountVectorizer"
      ],
      "metadata": {
        "id": "d99rVyEgZGbd"
      },
      "execution_count": 16,
      "outputs": []
    },
    {
      "cell_type": "code",
      "source": [
        "vectorizer = CountVectorizer()"
      ],
      "metadata": {
        "id": "pchz-MnCZRlN"
      },
      "execution_count": 17,
      "outputs": []
    },
    {
      "cell_type": "code",
      "source": [
        "X = vectorizer.fit_transform(dataset_feature)"
      ],
      "metadata": {
        "id": "jUjW44LbZV0o"
      },
      "execution_count": 20,
      "outputs": []
    },
    {
      "cell_type": "code",
      "source": [
        "print(vectorizer.get_feature_names_out())"
      ],
      "metadata": {
        "colab": {
          "base_uri": "https://localhost:8080/"
        },
        "id": "BTmz5PfVZbV8",
        "outputId": "ec7f939f-7697-4b89-f0be-6482143aed43"
      },
      "execution_count": 22,
      "outputs": [
        {
          "output_type": "stream",
          "name": "stdout",
          "text": [
            "['aa' 'aamiin' 'aamiingimana' ... 'zmn' 'zona' 'zone']\n"
          ]
        }
      ]
    },
    {
      "cell_type": "code",
      "source": [
        "print(X.toarray())"
      ],
      "metadata": {
        "colab": {
          "base_uri": "https://localhost:8080/"
        },
        "id": "HLU7FqhuZ_cQ",
        "outputId": "a936b61f-403e-4298-c9aa-c6ee28dd031c"
      },
      "execution_count": 23,
      "outputs": [
        {
          "output_type": "stream",
          "name": "stdout",
          "text": [
            "[[0 0 0 ... 0 0 0]\n",
            " [0 0 0 ... 0 0 0]\n",
            " [0 0 0 ... 0 0 0]\n",
            " ...\n",
            " [0 0 0 ... 0 0 0]\n",
            " [0 0 0 ... 0 0 0]\n",
            " [0 0 0 ... 0 0 0]]\n"
          ]
        }
      ]
    },
    {
      "cell_type": "code",
      "source": [
        "vectorizer2 = CountVectorizer(analyzer='word', ngram_range=(2, 2))"
      ],
      "metadata": {
        "id": "rYnkhxzKaElh"
      },
      "execution_count": 24,
      "outputs": []
    },
    {
      "cell_type": "code",
      "source": [
        "X2 = vectorizer2.fit_transform(dataset_feature)"
      ],
      "metadata": {
        "id": "feIUpR0YaMs7"
      },
      "execution_count": 25,
      "outputs": []
    },
    {
      "cell_type": "code",
      "source": [
        "print(vectorizer2.get_feature_names_out())"
      ],
      "metadata": {
        "colab": {
          "base_uri": "https://localhost:8080/"
        },
        "id": "VroZv_xPaS6u",
        "outputId": "2fd67ed3-2e18-4e5c-fc72-ce02b1fb4df7"
      },
      "execution_count": 27,
      "outputs": [
        {
          "output_type": "stream",
          "name": "stdout",
          "text": [
            "['aa warga' 'aamiin aamiin' 'aamiin gimana' ... 'zmn pkp' 'zona hijau'\n",
            " 'zone covid']\n"
          ]
        }
      ]
    },
    {
      "cell_type": "code",
      "source": [
        "print(X2.toarray())"
      ],
      "metadata": {
        "colab": {
          "base_uri": "https://localhost:8080/"
        },
        "id": "yULXu9ZSafAE",
        "outputId": "c86c2ae1-01d3-4eb1-f89e-0c0151119b22"
      },
      "execution_count": 28,
      "outputs": [
        {
          "output_type": "stream",
          "name": "stdout",
          "text": [
            "[[0 0 0 ... 0 0 0]\n",
            " [0 0 0 ... 0 0 0]\n",
            " [0 0 0 ... 0 0 0]\n",
            " ...\n",
            " [0 0 0 ... 0 0 0]\n",
            " [0 0 0 ... 0 0 0]\n",
            " [0 0 0 ... 0 0 0]]\n"
          ]
        }
      ]
    },
    {
      "cell_type": "markdown",
      "source": [
        "## **Simulai Corpus**"
      ],
      "metadata": {
        "id": "a6seGmccbNb0"
      }
    },
    {
      "cell_type": "code",
      "source": [
        "corpus = [\n",
        "    'This is the first Document.',\n",
        "    'This document is the second document.',\n",
        "    'And this is the third one.',\n",
        "    'Is this the first document?',\n",
        "]"
      ],
      "metadata": {
        "id": "Oxb1veHGajBb"
      },
      "execution_count": 29,
      "outputs": []
    },
    {
      "cell_type": "code",
      "source": [
        "vectorizer = CountVectorizer()"
      ],
      "metadata": {
        "id": "FrTNHgTOanGo"
      },
      "execution_count": 30,
      "outputs": []
    },
    {
      "cell_type": "code",
      "source": [
        "Z = vectorizer.fit_transform(corpus)"
      ],
      "metadata": {
        "id": "qZWZTiO3aqbp"
      },
      "execution_count": 31,
      "outputs": []
    },
    {
      "cell_type": "code",
      "source": [
        "vectorizer.get_feature_names_out()"
      ],
      "metadata": {
        "colab": {
          "base_uri": "https://localhost:8080/"
        },
        "id": "qzj6CtKtauHg",
        "outputId": "e130ac05-0587-40c0-c528-0b1b176797ed"
      },
      "execution_count": 32,
      "outputs": [
        {
          "output_type": "execute_result",
          "data": {
            "text/plain": [
              "array(['and', 'document', 'first', 'is', 'one', 'second', 'the', 'third',\n",
              "       'this'], dtype=object)"
            ]
          },
          "metadata": {},
          "execution_count": 32
        }
      ]
    },
    {
      "cell_type": "code",
      "source": [
        "print(Z.toarray())"
      ],
      "metadata": {
        "colab": {
          "base_uri": "https://localhost:8080/"
        },
        "id": "1dCj-MRoa5nk",
        "outputId": "5576d715-c4e6-46ac-d33a-12c2c282486e"
      },
      "execution_count": 33,
      "outputs": [
        {
          "output_type": "stream",
          "name": "stdout",
          "text": [
            "[[0 1 1 1 0 0 1 0 1]\n",
            " [0 2 0 1 0 1 1 0 1]\n",
            " [1 0 0 1 1 0 1 1 1]\n",
            " [0 1 1 1 0 0 1 0 1]]\n"
          ]
        }
      ]
    },
    {
      "cell_type": "code",
      "source": [
        "vectorizer2 = CountVectorizer(analyzer='word', ngram_range=(2, 2))"
      ],
      "metadata": {
        "id": "62MeWikVa-0T"
      },
      "execution_count": 34,
      "outputs": []
    },
    {
      "cell_type": "code",
      "source": [
        "Z2 = vectorizer2.fit_transform(corpus)"
      ],
      "metadata": {
        "id": "P0t_4KtAbCG4"
      },
      "execution_count": 35,
      "outputs": []
    },
    {
      "cell_type": "code",
      "source": [
        "vectorizer2.get_feature_names_out()"
      ],
      "metadata": {
        "colab": {
          "base_uri": "https://localhost:8080/"
        },
        "id": "D1tTuQylbFKp",
        "outputId": "4e43c230-0d6c-45b5-abbb-76b6fd633a39"
      },
      "execution_count": 36,
      "outputs": [
        {
          "output_type": "execute_result",
          "data": {
            "text/plain": [
              "array(['and this', 'document is', 'first document', 'is the', 'is this',\n",
              "       'second document', 'the first', 'the second', 'the third',\n",
              "       'third one', 'this document', 'this is', 'this the'], dtype=object)"
            ]
          },
          "metadata": {},
          "execution_count": 36
        }
      ]
    },
    {
      "cell_type": "code",
      "source": [
        "print(Z2.toarray())"
      ],
      "metadata": {
        "colab": {
          "base_uri": "https://localhost:8080/"
        },
        "id": "GtztzY-LbJSm",
        "outputId": "55682be7-af03-4c9b-b621-587a4a977e5f"
      },
      "execution_count": 37,
      "outputs": [
        {
          "output_type": "stream",
          "name": "stdout",
          "text": [
            "[[0 0 1 1 0 0 1 0 0 0 0 1 0]\n",
            " [0 1 0 1 0 1 0 1 0 0 1 0 0]\n",
            " [1 0 0 1 0 0 0 0 1 1 0 1 0]\n",
            " [0 0 1 0 1 0 1 0 0 0 0 0 1]]\n"
          ]
        }
      ]
    }
  ]
}