{
  "nbformat": 4,
  "nbformat_minor": 0,
  "metadata": {
    "colab": {
      "provenance": [],
      "toc_visible": true,
      "authorship_tag": "ABX9TyMCOARM0w4rFXV9SfUM4vdA",
      "include_colab_link": true
    },
    "kernelspec": {
      "name": "python3",
      "display_name": "Python 3"
    },
    "language_info": {
      "name": "python"
    }
  },
  "cells": [
    {
      "cell_type": "markdown",
      "metadata": {
        "id": "view-in-github",
        "colab_type": "text"
      },
      "source": [
        "<a href=\"https://colab.research.google.com/github/anggamw/anggamw.github.io/blob/main/Preprocessing.ipynb\" target=\"_parent\"><img src=\"https://colab.research.google.com/assets/colab-badge.svg\" alt=\"Open In Colab\"/></a>"
      ]
    },
    {
      "cell_type": "markdown",
      "source": [
        "**Case Folding: Lowercase**\n",
        "\n",
        "\n",
        "\n",
        "mengubah format teks menjadi format huruf kecil semua"
      ],
      "metadata": {
        "id": "yly6_mYr5ZHP"
      }
    },
    {
      "cell_type": "code",
      "execution_count": 17,
      "metadata": {
        "colab": {
          "base_uri": "https://localhost:8080/"
        },
        "id": "ly-ZXBRzukAu",
        "outputId": "debe714f-c5a0-4fd2-c6d8-a2f8c3dbf1c2"
      },
      "outputs": [
        {
          "output_type": "stream",
          "name": "stdout",
          "text": [
            "{\"url\": \"https://entertainment.kompas.com/read/2018/01/01/120010610/tahun-ini-rossa-siapkan-gebrakan-baru\", \"date\": \"2018-01-01 12:00:00\", \"title\": \"tahun ini rossa siapkan gebrakan baru\", \"content\": \"jakarta, kompas.com - penyanyi rossa mengaku sedang menyiapkan sejumlah gebrakan untuk tahun yang baru ini. pelantun \\\"tegar\\\" itu mengungkapkannya dalam wawancara di jakarta convention center (jcc) senayan, jakarta selatan, baru-baru. \\\"ada beberapa (gebrakan) yang sudah saya siapkan. ada beberapa kolaborasi yang saya siapkan,\\\" kata rossa seraya tersenyum. namun, karena itu akan menjadi kejutan, rossa belum mau membeberkan lebih lanjut tentang rencana-rencananya itu. masih berahasia soal proyek musiknya untuk 2018, rossa hanya mengatakan bahwa ia berharap kariernya tahun ini semakin baik lagi. \\\"resolusinya jadi lebih baik\\u00a0dari karier dan kehidupan sehari-hari. jadi pribadi yang lebih baik dan berguna buat semua orang,\\\" ucap rossa. lalu, apakah gebrakan yang ia siapkan untuk 2018 itu juga termasuk pernikahan? \\\"kita lihat nanti aja , doakan ya. doain lancar,\\\" kata rossa sambil tertawa kecil lalu memberikan kiss bye dan bergegas pergi.\"}\n"
          ]
        }
      ],
      "source": [
        "import json\n",
        "file_json = open(\"kompas.json\")\n",
        "data = json.loads(file_json.read())\n",
        "data_string = json.dumps(data)\n",
        "kecil = data_string.lower()\n",
        "print(kecil)"
      ]
    },
    {
      "cell_type": "markdown",
      "source": [
        "**CaseFolding: Removing Punctuation**\n",
        "\n",
        "menghapus karakter tanda baca"
      ],
      "metadata": {
        "id": "85hO9XCF53BW"
      }
    },
    {
      "cell_type": "code",
      "source": [
        "import string\n",
        "hasil = kecil.translate(str.maketrans(\"\",\"\",string.punctuation))\n",
        "print(hasil)"
      ],
      "metadata": {
        "colab": {
          "base_uri": "https://localhost:8080/"
        },
        "id": "TQpHns915hvc",
        "outputId": "a98127fa-f88f-4439-9230-1be3aa420044"
      },
      "execution_count": 18,
      "outputs": [
        {
          "output_type": "stream",
          "name": "stdout",
          "text": [
            "url httpsentertainmentkompascomread20180101120010610tahuninirossasiapkangebrakanbaru date 20180101 120000 title tahun ini rossa siapkan gebrakan baru content jakarta kompascom  penyanyi rossa mengaku sedang menyiapkan sejumlah gebrakan untuk tahun yang baru ini pelantun tegar itu mengungkapkannya dalam wawancara di jakarta convention center jcc senayan jakarta selatan barubaru ada beberapa gebrakan yang sudah saya siapkan ada beberapa kolaborasi yang saya siapkan kata rossa seraya tersenyum namun karena itu akan menjadi kejutan rossa belum mau membeberkan lebih lanjut tentang rencanarencananya itu masih berahasia soal proyek musiknya untuk 2018 rossa hanya mengatakan bahwa ia berharap kariernya tahun ini semakin baik lagi resolusinya jadi lebih baiku00a0dari karier dan kehidupan seharihari jadi pribadi yang lebih baik dan berguna buat semua orang ucap rossa lalu apakah gebrakan yang ia siapkan untuk 2018 itu juga termasuk pernikahan kita lihat nanti aja  doakan ya doain lancar kata rossa sambil tertawa kecil lalu memberikan kiss bye dan bergegas pergi\n"
          ]
        }
      ]
    },
    {
      "cell_type": "markdown",
      "source": [
        "**CaseFolding: Removing Number**\n",
        "\n",
        "menghapus karakter angka"
      ],
      "metadata": {
        "id": "dH8GIMm_6Mzo"
      }
    },
    {
      "cell_type": "code",
      "source": [
        "import  re\n",
        "hasil = re.sub(r\"\\d+\", \"\", hasil)\n",
        "print(hasil)"
      ],
      "metadata": {
        "colab": {
          "base_uri": "https://localhost:8080/"
        },
        "id": "hff-3_yv5_uc",
        "outputId": "ee7c088b-9462-4832-b821-a922a0f9e246"
      },
      "execution_count": 33,
      "outputs": [
        {
          "output_type": "stream",
          "name": "stdout",
          "text": [
            "url httpsentertainmentkompascomreadtahuninirossasiapkangebrakanbaru date   title tahun ini rossa siapkan gebrakan baru content jakarta kompascom  penyanyi rossa mengaku sedang menyiapkan sejumlah gebrakan untuk tahun yang baru ini pelantun tegar itu mengungkapkannya dalam wawancara di jakarta convention center jcc senayan jakarta selatan barubaru ada beberapa gebrakan yang sudah saya siapkan ada beberapa kolaborasi yang saya siapkan kata rossa seraya tersenyum namun karena itu akan menjadi kejutan rossa belum mau membeberkan lebih lanjut tentang rencanarencananya itu masih berahasia soal proyek musiknya untuk  rossa hanya mengatakan bahwa ia berharap kariernya tahun ini semakin baik lagi resolusinya jadi lebih baikuadari karier dan kehidupan seharihari jadi pribadi yang lebih baik dan berguna buat semua orang ucap rossa lalu apakah gebrakan yang ia siapkan untuk  itu juga termasuk pernikahan kita lihat nanti aja  doakan ya doain lancar kata rossa sambil tertawa kecil lalu memberikan kiss bye dan bergegas pergi\n"
          ]
        }
      ]
    },
    {
      "cell_type": "markdown",
      "source": [
        "**CaseFolding: Removing Whitesapace**\n",
        "\n",
        "Menghapus karakter kosong"
      ],
      "metadata": {
        "id": "o-DoTn94Ab89"
      }
    },
    {
      "cell_type": "code",
      "source": [
        "hasil = hasil.strip()\n",
        "print(hasil)"
      ],
      "metadata": {
        "colab": {
          "base_uri": "https://localhost:8080/"
        },
        "id": "DBbTsr138U7y",
        "outputId": "8fa84d6f-5ad4-4945-b279-9d6fcc21b09e"
      },
      "execution_count": 34,
      "outputs": [
        {
          "output_type": "stream",
          "name": "stdout",
          "text": [
            "url httpsentertainmentkompascomreadtahuninirossasiapkangebrakanbaru date   title tahun ini rossa siapkan gebrakan baru content jakarta kompascom  penyanyi rossa mengaku sedang menyiapkan sejumlah gebrakan untuk tahun yang baru ini pelantun tegar itu mengungkapkannya dalam wawancara di jakarta convention center jcc senayan jakarta selatan barubaru ada beberapa gebrakan yang sudah saya siapkan ada beberapa kolaborasi yang saya siapkan kata rossa seraya tersenyum namun karena itu akan menjadi kejutan rossa belum mau membeberkan lebih lanjut tentang rencanarencananya itu masih berahasia soal proyek musiknya untuk  rossa hanya mengatakan bahwa ia berharap kariernya tahun ini semakin baik lagi resolusinya jadi lebih baikuadari karier dan kehidupan seharihari jadi pribadi yang lebih baik dan berguna buat semua orang ucap rossa lalu apakah gebrakan yang ia siapkan untuk  itu juga termasuk pernikahan kita lihat nanti aja  doakan ya doain lancar kata rossa sambil tertawa kecil lalu memberikan kiss bye dan bergegas pergi\n"
          ]
        }
      ]
    },
    {
      "cell_type": "markdown",
      "source": [
        "**Tokenizinng: Word Tokenizing Using NLTK Module**\n",
        "\n",
        "Mengubah library NLTK untuk memisahkan kata dalam sebuah kalimat"
      ],
      "metadata": {
        "id": "cvCAu7hVAoQr"
      }
    },
    {
      "cell_type": "code",
      "source": [
        "import  nltk\n",
        "from nltk.tokenize import word_tokenize\n",
        "tokens = nltk.tokenize.word_tokenize(hasil)\n",
        "print(tokens)\n"
      ],
      "metadata": {
        "colab": {
          "base_uri": "https://localhost:8080/"
        },
        "id": "jsxy_7y-6QZP",
        "outputId": "1c631731-40f0-4e76-c0a2-ec12b71cf658"
      },
      "execution_count": 35,
      "outputs": [
        {
          "output_type": "stream",
          "name": "stdout",
          "text": [
            "['url', 'httpsentertainmentkompascomreadtahuninirossasiapkangebrakanbaru', 'date', 'title', 'tahun', 'ini', 'rossa', 'siapkan', 'gebrakan', 'baru', 'content', 'jakarta', 'kompascom', 'penyanyi', 'rossa', 'mengaku', 'sedang', 'menyiapkan', 'sejumlah', 'gebrakan', 'untuk', 'tahun', 'yang', 'baru', 'ini', 'pelantun', 'tegar', 'itu', 'mengungkapkannya', 'dalam', 'wawancara', 'di', 'jakarta', 'convention', 'center', 'jcc', 'senayan', 'jakarta', 'selatan', 'barubaru', 'ada', 'beberapa', 'gebrakan', 'yang', 'sudah', 'saya', 'siapkan', 'ada', 'beberapa', 'kolaborasi', 'yang', 'saya', 'siapkan', 'kata', 'rossa', 'seraya', 'tersenyum', 'namun', 'karena', 'itu', 'akan', 'menjadi', 'kejutan', 'rossa', 'belum', 'mau', 'membeberkan', 'lebih', 'lanjut', 'tentang', 'rencanarencananya', 'itu', 'masih', 'berahasia', 'soal', 'proyek', 'musiknya', 'untuk', 'rossa', 'hanya', 'mengatakan', 'bahwa', 'ia', 'berharap', 'kariernya', 'tahun', 'ini', 'semakin', 'baik', 'lagi', 'resolusinya', 'jadi', 'lebih', 'baikuadari', 'karier', 'dan', 'kehidupan', 'seharihari', 'jadi', 'pribadi', 'yang', 'lebih', 'baik', 'dan', 'berguna', 'buat', 'semua', 'orang', 'ucap', 'rossa', 'lalu', 'apakah', 'gebrakan', 'yang', 'ia', 'siapkan', 'untuk', 'itu', 'juga', 'termasuk', 'pernikahan', 'kita', 'lihat', 'nanti', 'aja', 'doakan', 'ya', 'doain', 'lancar', 'kata', 'rossa', 'sambil', 'tertawa', 'kecil', 'lalu', 'memberikan', 'kiss', 'bye', 'dan', 'bergegas', 'pergi']\n"
          ]
        }
      ]
    },
    {
      "cell_type": "markdown",
      "source": [
        "**Frequency Distribution**\n",
        "\n",
        "Menghitung frekuensi kemunculan setiap token (kata) dalam teks"
      ],
      "metadata": {
        "id": "DJJaHkgGA8d_"
      }
    },
    {
      "cell_type": "code",
      "source": [
        "from nltk.tokenize import word_tokenize\n",
        "from nltk.probability import FreqDist\n",
        "kemunculan = nltk.FreqDist(tokens)\n",
        "\n",
        "print(kemunculan.most_common())\n"
      ],
      "metadata": {
        "colab": {
          "base_uri": "https://localhost:8080/"
        },
        "id": "94iT4Zo18f-0",
        "outputId": "da935010-d81e-4e82-8284-01acdf804778"
      },
      "execution_count": 24,
      "outputs": [
        {
          "output_type": "stream",
          "name": "stdout",
          "text": [
            "[('rossa', 7), ('yang', 5), ('siapkan', 4), ('gebrakan', 4), ('itu', 4), ('tahun', 3), ('ini', 3), ('jakarta', 3), ('untuk', 3), ('lebih', 3), ('dan', 3), ('baru', 2), ('ada', 2), ('beberapa', 2), ('saya', 2), ('kata', 2), ('ia', 2), ('baik', 2), ('jadi', 2), ('lalu', 2), ('url', 1), ('httpsentertainmentkompascomreadtahuninirossasiapkangebrakanbaru', 1), ('date', 1), ('title', 1), ('content', 1), ('kompascom', 1), ('penyanyi', 1), ('mengaku', 1), ('sedang', 1), ('menyiapkan', 1), ('sejumlah', 1), ('pelantun', 1), ('tegar', 1), ('mengungkapkannya', 1), ('dalam', 1), ('wawancara', 1), ('di', 1), ('convention', 1), ('center', 1), ('jcc', 1), ('senayan', 1), ('selatan', 1), ('barubaru', 1), ('sudah', 1), ('kolaborasi', 1), ('seraya', 1), ('tersenyum', 1), ('namun', 1), ('karena', 1), ('akan', 1), ('menjadi', 1), ('kejutan', 1), ('belum', 1), ('mau', 1), ('membeberkan', 1), ('lanjut', 1), ('tentang', 1), ('rencanarencananya', 1), ('masih', 1), ('berahasia', 1), ('soal', 1), ('proyek', 1), ('musiknya', 1), ('hanya', 1), ('mengatakan', 1), ('bahwa', 1), ('berharap', 1), ('kariernya', 1), ('semakin', 1), ('lagi', 1), ('resolusinya', 1), ('baikuadari', 1), ('karier', 1), ('kehidupan', 1), ('seharihari', 1), ('pribadi', 1), ('berguna', 1), ('buat', 1), ('semua', 1), ('orang', 1), ('ucap', 1), ('apakah', 1), ('juga', 1), ('termasuk', 1), ('pernikahan', 1), ('kita', 1), ('lihat', 1), ('nanti', 1), ('aja', 1), ('doakan', 1), ('ya', 1), ('doain', 1), ('lancar', 1), ('sambil', 1), ('tertawa', 1), ('kecil', 1), ('memberikan', 1), ('kiss', 1), ('bye', 1), ('bergegas', 1), ('pergi', 1)]\n"
          ]
        }
      ]
    },
    {
      "cell_type": "markdown",
      "source": [
        "**Frequency Distribution Visualization with Matplotlib**\n",
        "\n",
        "Menggambarkan frekuensi kemunculan setiap tokens menggunakan library Matplotlib"
      ],
      "metadata": {
        "id": "AtaAIRctBJo8"
      }
    },
    {
      "cell_type": "code",
      "source": [
        "import matplotlib.pyplot as plt\n",
        "\n",
        "kemunculan.plot(30, cumulative=False)\n",
        "\n",
        "plt.show()"
      ],
      "metadata": {
        "colab": {
          "base_uri": "https://localhost:8080/",
          "height": 932
        },
        "id": "JgxNiIEv8yBs",
        "outputId": "2cf40690-0766-448c-cf22-526892afa4c8"
      },
      "execution_count": 28,
      "outputs": [
        {
          "output_type": "display_data",
          "data": {
            "text/plain": [
              "<Figure size 640x480 with 1 Axes>"
            ],
            "image/png": "[encoded data removed]"
          },
          "metadata": {}
        }
      ]
    },
    {
      "cell_type": "markdown",
      "source": [
        "**Filtering Using NLTK**"
      ],
      "metadata": {
        "id": "cx_nWRnfBpp8"
      }
    },
    {
      "cell_type": "code",
      "source": [
        "from nltk.tokenize import sent_tokenize, word_tokenize\n",
        "from nltk.corpus import stopwords\n",
        "\n",
        "listStopword = set(stopwords.words('indonesian'))\n",
        "\n",
        "removed = []\n",
        "for t in tokens:\n",
        "    if t not in listStopword:\n",
        "        removed.append(t)\n",
        "\n",
        "print(removed)"
      ],
      "metadata": {
        "colab": {
          "base_uri": "https://localhost:8080/"
        },
        "id": "Vh9wJ0bGB_Vq",
        "outputId": "b3d82903-1c84-4101-e1b0-55c1eb3a6a5f"
      },
      "execution_count": 43,
      "outputs": [
        {
          "output_type": "stream",
          "name": "stdout",
          "text": [
            "['url', 'httpsentertainmentkompascomreadtahuninirossasiapkangebrakanbaru', 'date', 'title', 'rossa', 'siapkan', 'gebrakan', 'content', 'jakarta', 'kompascom', 'penyanyi', 'rossa', 'mengaku', 'gebrakan', 'pelantun', 'tegar', 'mengungkapkannya', 'wawancara', 'jakarta', 'convention', 'center', 'jcc', 'senayan', 'jakarta', 'selatan', 'barubaru', 'gebrakan', 'siapkan', 'kolaborasi', 'siapkan', 'rossa', 'seraya', 'tersenyum', 'kejutan', 'rossa', 'membeberkan', 'rencanarencananya', 'berahasia', 'proyek', 'musiknya', 'rossa', 'berharap', 'kariernya', 'resolusinya', 'baikuadari', 'karier', 'kehidupan', 'seharihari', 'pribadi', 'berguna', 'orang', 'rossa', 'gebrakan', 'siapkan', 'pernikahan', 'lihat', 'aja', 'doakan', 'ya', 'doain', 'lancar', 'rossa', 'tertawa', 'kiss', 'bye', 'bergegas', 'pergi']\n"
          ]
        }
      ]
    },
    {
      "cell_type": "markdown",
      "source": [
        "**Stemming: Porter Stemming Algorithm using NLTK**"
      ],
      "metadata": {
        "id": "JYP0gxVDDONR"
      }
    },
    {
      "cell_type": "code",
      "source": [
        "from nltk.stem import PorterStemmer\n",
        "ps = PorterStemmer()\n",
        "for k in removed:\n",
        "    print(k, \" : \", ps.stem(k))"
      ],
      "metadata": {
        "colab": {
          "base_uri": "https://localhost:8080/"
        },
        "id": "VYY-l7-T91ZB",
        "outputId": "1702ef89-154e-4acb-8d9c-7804240547b4"
      },
      "execution_count": 44,
      "outputs": [
        {
          "output_type": "stream",
          "name": "stdout",
          "text": [
            "url  :  url\n",
            "httpsentertainmentkompascomreadtahuninirossasiapkangebrakanbaru  :  httpsentertainmentkompascomreadtahuninirossasiapkangebrakanbaru\n",
            "date  :  date\n",
            "title  :  titl\n",
            "rossa  :  rossa\n",
            "siapkan  :  siapkan\n",
            "gebrakan  :  gebrakan\n",
            "content  :  content\n",
            "jakarta  :  jakarta\n",
            "kompascom  :  kompascom\n",
            "penyanyi  :  penyanyi\n",
            "rossa  :  rossa\n",
            "mengaku  :  mengaku\n",
            "gebrakan  :  gebrakan\n",
            "pelantun  :  pelantun\n",
            "tegar  :  tegar\n",
            "mengungkapkannya  :  mengungkapkannya\n",
            "wawancara  :  wawancara\n",
            "jakarta  :  jakarta\n",
            "convention  :  convent\n",
            "center  :  center\n",
            "jcc  :  jcc\n",
            "senayan  :  senayan\n",
            "jakarta  :  jakarta\n",
            "selatan  :  selatan\n",
            "barubaru  :  barubaru\n",
            "gebrakan  :  gebrakan\n",
            "siapkan  :  siapkan\n",
            "kolaborasi  :  kolaborasi\n",
            "siapkan  :  siapkan\n",
            "rossa  :  rossa\n",
            "seraya  :  seraya\n",
            "tersenyum  :  tersenyum\n",
            "kejutan  :  kejutan\n",
            "rossa  :  rossa\n",
            "membeberkan  :  membeberkan\n",
            "rencanarencananya  :  rencanarencananya\n",
            "berahasia  :  berahasia\n",
            "proyek  :  proyek\n",
            "musiknya  :  musiknya\n",
            "rossa  :  rossa\n",
            "berharap  :  berharap\n",
            "kariernya  :  kariernya\n",
            "resolusinya  :  resolusinya\n",
            "baikuadari  :  baikuadari\n",
            "karier  :  karier\n",
            "kehidupan  :  kehidupan\n",
            "seharihari  :  seharihari\n",
            "pribadi  :  pribadi\n",
            "berguna  :  berguna\n",
            "orang  :  orang\n",
            "rossa  :  rossa\n",
            "gebrakan  :  gebrakan\n",
            "siapkan  :  siapkan\n",
            "pernikahan  :  pernikahan\n",
            "lihat  :  lihat\n",
            "aja  :  aja\n",
            "doakan  :  doakan\n",
            "ya  :  ya\n",
            "doain  :  doain\n",
            "lancar  :  lancar\n",
            "rossa  :  rossa\n",
            "tertawa  :  tertawa\n",
            "kiss  :  kiss\n",
            "bye  :  bye\n",
            "bergegas  :  bergega\n",
            "pergi  :  pergi\n"
          ]
        }
      ]
    }
  ]
}